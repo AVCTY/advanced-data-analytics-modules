{
 "cells": [
  {
   "cell_type": "markdown",
   "metadata": {},
   "source": [
    "### Part 1: Sentiment Analysis with Twitter\n",
    "\n",
    "In order to fetch tweets through tweepy (http://docs.tweepy.org/en/v3.5.0/api.html) Twitter API, one needs to register an App through their twitter account. Follow the following steps:\n",
    "\n",
    "   - Sign up a Twitter account: https://apps.twitter.com/app/new.\n",
    "   - Go to: https://developer.twitter.com/en/apps to create a new App.\n",
    "   - Go to mange key and access token of the App page.\n",
    "   - Open the ‘Keys and Access Tokens’ tab.\n",
    "   - Copy ‘Consumer Key’, ‘Consumer Secret’, ‘Access token’ and ‘Access Token Secret’.\n"
   ]
  },
  {
   "cell_type": "markdown",
   "metadata": {},
   "source": [
    "- You need to install <b>textblog</b>. Use pip: ```pip install textblob```\n",
    "- You need to install <b>tweepy</b>. Use pip: ```pip install tweepy```"
   ]
  },
  {
   "cell_type": "code",
   "execution_count": 1,
   "metadata": {},
   "outputs": [
    {
     "name": "stdout",
     "output_type": "stream",
     "text": [
      "Collecting textblob\n",
      "  Downloading textblob-0.15.3-py2.py3-none-any.whl (636 kB)\n",
      "Requirement already satisfied: nltk>=3.1 in c:\\users\\athet\\anaconda3\\lib\\site-packages (from textblob) (3.5)\n",
      "Requirement already satisfied: click in c:\\users\\athet\\anaconda3\\lib\\site-packages (from nltk>=3.1->textblob) (7.1.2)\n",
      "Requirement already satisfied: joblib in c:\\users\\athet\\anaconda3\\lib\\site-packages (from nltk>=3.1->textblob) (0.17.0)\n",
      "Requirement already satisfied: tqdm in c:\\users\\athet\\anaconda3\\lib\\site-packages (from nltk>=3.1->textblob) (4.50.2)\n",
      "Requirement already satisfied: regex in c:\\users\\athet\\anaconda3\\lib\\site-packages (from nltk>=3.1->textblob) (2020.10.15)\n",
      "Installing collected packages: textblob\n",
      "Successfully installed textblob-0.15.3\n",
      "Collecting tweepy\n",
      "  Downloading tweepy-3.10.0-py2.py3-none-any.whl (30 kB)\n",
      "Requirement already satisfied: requests[socks]>=2.11.1 in c:\\users\\athet\\anaconda3\\lib\\site-packages (from tweepy) (2.24.0)\n",
      "Requirement already satisfied: requests-oauthlib>=0.7.0 in c:\\users\\athet\\anaconda3\\lib\\site-packages (from tweepy) (1.3.0)\n",
      "Requirement already satisfied: six>=1.10.0 in c:\\users\\athet\\anaconda3\\lib\\site-packages (from tweepy) (1.15.0)\n",
      "Requirement already satisfied: urllib3!=1.25.0,!=1.25.1,<1.26,>=1.21.1 in c:\\users\\athet\\anaconda3\\lib\\site-packages (from requests[socks]>=2.11.1->tweepy) (1.25.11)\n",
      "Requirement already satisfied: certifi>=2017.4.17 in c:\\users\\athet\\anaconda3\\lib\\site-packages (from requests[socks]>=2.11.1->tweepy) (2020.6.20)\n",
      "Requirement already satisfied: chardet<4,>=3.0.2 in c:\\users\\athet\\anaconda3\\lib\\site-packages (from requests[socks]>=2.11.1->tweepy) (3.0.4)\n",
      "Requirement already satisfied: idna<3,>=2.5 in c:\\users\\athet\\anaconda3\\lib\\site-packages (from requests[socks]>=2.11.1->tweepy) (2.10)\n",
      "Requirement already satisfied: PySocks!=1.5.7,>=1.5.6; extra == \"socks\" in c:\\users\\athet\\anaconda3\\lib\\site-packages (from requests[socks]>=2.11.1->tweepy) (1.7.1)\n",
      "Requirement already satisfied: oauthlib>=3.0.0 in c:\\users\\athet\\anaconda3\\lib\\site-packages (from requests-oauthlib>=0.7.0->tweepy) (3.1.0)\n",
      "Installing collected packages: tweepy\n",
      "Successfully installed tweepy-3.10.0\n"
     ]
    }
   ],
   "source": [
    "!pip install textblob\n",
    "!pip install tweepy"
   ]
  },
  {
   "cell_type": "code",
   "execution_count": 1,
   "metadata": {},
   "outputs": [],
   "source": [
    "import re\n",
    "import tweepy\n",
    "from tweepy import OAuthHandler\n",
    "from textblob import TextBlob\n",
    "import matplotlib.pyplot as plt\n",
    "\n",
    "## Twitter credentials\n",
    "consumer_key = \"fM4do4wnn7bwvT11uRt7Fg\"\n",
    "consumer_secret = \"3jZ4A2L85t6AeYb2arVWCPKx90kR5K4SGhjRFWymQ\"\n",
    "access_token = \"331555799-B1rdlBw0cWxexLQuq0lxsKvz64DdqXJcklQ3Zkks\"\n",
    "access_token_secret = \"wzcHT2ORj4AgK7QiXljO3UP7lz5f1IeY2M46xgkseoqqH\"\n",
    "\n",
    "## set up an instance of Tweepy\n",
    "auth = tweepy.OAuthHandler(consumer_key, consumer_secret)\n",
    "auth.set_access_token(access_token, access_token_secret)\n",
    "api = tweepy.API(auth)"
   ]
  },
  {
   "cell_type": "code",
   "execution_count": 2,
   "metadata": {},
   "outputs": [],
   "source": [
    "def classify(tweet):\n",
    "    clean_tweet=' '.join(re.sub(\"(@[A-Za-z0-9]+)|([^0-9A-Za-z \\t])|(\\w+:\\/\\/\\S+)\", \" \", tweet).split())\n",
    "    # create TextBlob object of passed tweet text\n",
    "    analysis = TextBlob(clean_tweet)\n",
    "    # set sentiment\n",
    "    if analysis.sentiment.polarity > 0:\n",
    "        return 'positive'\n",
    "    elif analysis.sentiment.polarity == 0:\n",
    "        return 'neutral'\n",
    "    else:\n",
    "        return 'negative'\n",
    "\n",
    "def get_sentiments(fetched_tweets):\n",
    "    # empty list to store parsed tweets\n",
    "    tweets = []\n",
    "    # parsing tweets one by one\n",
    "    for tweet in fetched_tweets:\n",
    "        # empty dictionary to store required params of a tweet\n",
    "        parsed_tweet = {}\n",
    "        #print(tweet.text)\n",
    "        # saving text of tweet\n",
    "        parsed_tweet['text'] = tweet.text\n",
    "        # saving sentiment of tweet\n",
    "        parsed_tweet['sentiment'] = classify(tweet.text)\n",
    " \n",
    "        # appending parsed tweet to tweets list\n",
    "        if tweet.retweet_count > 0:\n",
    "            # if tweet has retweets, ensure that it is appended only once\n",
    "            if parsed_tweet not in tweets:\n",
    "                tweets.append(parsed_tweet)\n",
    "        else:\n",
    "            tweets.append(parsed_tweet)\n",
    " \n",
    "    # return parsed tweets\n",
    "    return tweets"
   ]
  },
  {
   "cell_type": "code",
   "execution_count": 3,
   "metadata": {},
   "outputs": [],
   "source": [
    "import matplotlib.pyplot as plt\n",
    "%matplotlib inline\n",
    "\n",
    "def summary(tweets, n):\n",
    "    # picking positive tweets from tweets\n",
    "    ptweets = [tweet for tweet in tweets if tweet['sentiment'] == 'positive']\n",
    "    # percentage of positive tweets\n",
    "    ptweet_size=100*len(ptweets)/len(tweets)\n",
    "    print(\"Positive tweets percentage: {} %\".format(ptweet_size))\n",
    "    # picking negative tweets from tweets\n",
    "    ntweets = [tweet for tweet in tweets if tweet['sentiment'] == 'negative']\n",
    "    # percentage of negative tweets\n",
    "    ntweet_size=100*len(ntweets)/len(tweets)\n",
    "    print(\"Negative tweets percentage: {} %\".format(ntweet_size))\n",
    "    # percentage of neutral tweets\n",
    "    neutral=len(tweets) - len(ntweets) - len(ptweets)\n",
    "    neutral_size=100*neutral/len(tweets)\n",
    "    print(\"Neutral tweets percentage: {} %\".format(neutral_size))\n",
    " \n",
    "    # Data to plot\n",
    "    labels = 'Positive', 'Negative', 'Neutral'\n",
    "    sizes = [ptweet_size, ntweet_size, neutral_size]\n",
    "    colors = ['gold', 'red', 'lightskyblue']\n",
    "    explode = (0.1, 0, 0)  # explode 1st slice\n",
    " \n",
    "    # Plot\n",
    "    plt.pie(sizes, explode=explode, labels=labels, colors=colors,\n",
    "        autopct='%1.1f%%', shadow=True, startangle=140)\n",
    " \n",
    "    plt.axis('equal')\n",
    "    plt.show()\n",
    "    \n",
    "    \n",
    "    # printing first n positive tweets\n",
    "    print(\"\\n\\nPositive tweets:\")\n",
    "    for tweet in ptweets[:n]:\n",
    "        print(tweet['text'])\n",
    " \n",
    "    # printing first n negative tweets\n",
    "    print(\"\\n\\nNegative tweets:\")\n",
    "    for tweet in ntweets[:n]:\n",
    "        print(tweet['text'])"
   ]
  },
  {
   "cell_type": "code",
   "execution_count": 4,
   "metadata": {
    "scrolled": true
   },
   "outputs": [
    {
     "name": "stdout",
     "output_type": "stream",
     "text": [
      "Positive tweets percentage: 51.25 %\n",
      "Negative tweets percentage: 8.75 %\n",
      "Neutral tweets percentage: 40.0 %\n"
     ]
    },
    {
     "data": {
      "image/png": "[encoded data removed]",
      "text/plain": [
       "<Figure size 432x288 with 1 Axes>"
      ]
     },
     "metadata": {},
     "output_type": "display_data"
    },
    {
     "name": "stdout",
     "output_type": "stream",
     "text": [
      "\n",
      "\n",
      "Positive tweets:\n",
      "RT @IFRCAsiaPacific: In #Nepal, as millions of people cope with a huge wave of #COVID19, an earthquake struck in remote mountains in the no…\n",
      "RT @sarahkbingler: #Ontario (and Canada) must recognize that many people who survived #covid19 will need #rehabilitation to recover functio…\n",
      "RT @LawrenceSellin: Dr. Li-Meng YAN @DrLiMengYAN1 is correct. Shibo Jiang and Shuwen Liu are important to the origin of #COVID19 \n",
      "Among oth…\n",
      "May 21, 2021. #COVID19 New deaths reported by region. https://t.co/yqVoo57byw  @Reuters https://t.co/fLswBlB6Hp\n",
      "RT @BogochIsaac: 183,399 #COVID19 vaccines were administered in Ontario, as of 8pm today.\n",
      "\n",
      "You read that right...&gt;183K, the most vaccines a…\n",
      "RT @KhushnumaKashm1: Despite the tremendous efforts by the administration, to control the spread of #COVID19 pandemic and sustained campaig…\n",
      "RT @SusanSchutte2: Paulette Durette, 47, New York City Test &amp; Trace Public health advisor, beloved wife, mother 4, including a special need…\n",
      "RT @pnppio: ELEAZAR TAPS CIDG TO PROBE VACCINE/VACCINATION SLOTS SALE\n",
      "\n",
      "Read more:https://t.co/7ERQQmWpoO\n",
      " \n",
      "#PulisNgPilipino\n",
      "#WeServeAndProt…\n",
      "In the U.S. the 7-day average of #Covid19 deaths is the lowest its been 𝐬𝐢𝐧𝐜𝐞 𝐌𝐚𝐫𝐜𝐡 𝟑𝟏, 𝟐𝟎𝟐𝟎!\n",
      "\n",
      "Vaccines really are… https://t.co/yjScSQU2Fp\n",
      "RT @jindadilkashmir: In light of the recent rise in #COVID19 cases nationwide, an awareness campaign was organised by #IndianArmy at #Buned…\n",
      "\n",
      "\n",
      "Negative tweets:\n",
      "🐚Blowing of a conch reduces\n",
      "movement of negative energies n\n",
      "removes obstacle in attraction of Sattva\n",
      "predominant fr… https://t.co/EUHGKnLsvU\n",
      "RT @MaanvinderP: It's a very sad news that #Sundarlal Bahuguna dies of Covid19. His efforts inspired us to reload Chipko Movement in Uttara…\n",
      "RT @ambkcsingh: Oh just realised. I listed in my morning tweets at least 4 options that PM had to handle #COVID19. I forgot his favourite:…\n",
      "RT @DollarVigilante: What is Evil?\n",
      "\n",
      "Watch The Full Video On Our Website. --&gt; https://t.co/7C5Llk3ocb\n",
      "\n",
      "#COVID19 #GreatReset #Spirituality ht…\n",
      "RT @GovEvers: If we don’t expand BadgerCare, we’re not just missing out on the opportunity to expand access to healthcare—we’re also missin…\n",
      "RT @UNODC: It's a wrap for #CCPCJ30 🎬\n",
      "The Crime Commission adopted 7 resolutions to advance crime prevention, criminal justice, and the rul…\n",
      "RT @DevinaB21: Why are our official #COVID19 guidelines still insisting on outdated treatments? Why are we still not following the evidence…\n"
     ]
    }
   ],
   "source": [
    "#Classify the sentiments for hashtag Covid19\n",
    "raw_tweets = api.search(q = 'Covid19', lang='en',count = 400)\n",
    "classified_tweets=get_sentiments(raw_tweets)\n",
    "summary(classified_tweets,10)"
   ]
  },
  {
   "cell_type": "code",
   "execution_count": 5,
   "metadata": {},
   "outputs": [
    {
     "name": "stdout",
     "output_type": "stream",
     "text": [
      "Positive tweets percentage: 51.5 %\n",
      "Negative tweets percentage: 13.0 %\n",
      "Neutral tweets percentage: 35.5 %\n"
     ]
    },
    {
     "data": {
      "image/png": "[encoded data removed]",
      "text/plain": [
       "<Figure size 432x288 with 1 Axes>"
      ]
     },
     "metadata": {},
     "output_type": "display_data"
    },
    {
     "name": "stdout",
     "output_type": "stream",
     "text": [
      "\n",
      "\n",
      "Positive tweets:\n",
      "Been in the studio all day recording the next one - it’s really so amazing what you all have done here. 🙏🙏🙏 https://t.co/rxa5njMn0z\n",
      "I wanted to say thank you to you so today I will be addressing a very pressing issue. 🐈🐈‍⬛❓ https://t.co/kBUybYoV2W\n",
      "WELL WELL WELL you all really went out and left my greatest expectations in shambles this week.😆 Word on the street… https://t.co/2gL6zt2IH6\n",
      "RT @pandoramusic: .@taylorswift13 dives into tracks from her newly re-recorded classic, 'Fearless (Taylor's Version),' on Pop Soundbites Mo…\n",
      "RT @youtubemusic: *Cries in Fearless* “Taylor’s Version” is here and now we can relive @taylorswift13’s sophomore album like it’s the first…\n",
      "This is more than perfectly fine 😄 @amazonmusic https://t.co/buTDyt52RX https://t.co/BSn7TGH3Ts\n",
      "You ok? NO cause I sent my two kids @Olivia_Rodrigo and @conangray my new version of You Belong With Me and THEY AR… https://t.co/6OZ0ZDec24\n",
      "Me in 2020: life is chill, writing songs based in fiction to avoid drama, feeling pretty grown up \n",
      "\n",
      "My 2008 music f… https://t.co/taOnsRmSos\n",
      "I’m counting down the minutes til we can all jump into this brave world together, filled with equal parts nostalgia… https://t.co/uLz4QoYC8m\n",
      "I’m really honored that @KeithUrban  is a part of this project, duetting on That’s When and singing harmonies on We… https://t.co/2egoo77Ame\n",
      "\n",
      "\n",
      "Negative tweets:\n",
      "Said hey to Stephen the other day \n",
      "\n",
      "@StephenAtHome \n",
      "@colbertlateshow https://t.co/AfM0o08MDd\n",
      "Hey Ginny &amp; Georgia, 2010 called and it wants its lazy, deeply sexist joke back. How about we stop degrading hard w… https://t.co/QpsFT4oU52\n",
      "I miss you terribly and can’t wait til we can all safely be at shows together again 💘 https://t.co/q3T23FCpMn\n",
      "bye 2020, it’s been weird. https://t.co/vQoZVSamkB\n",
      "Guys.\n",
      "Seriously.\n",
      "Thank you for doing this. https://t.co/CnqmuxXyuh\n",
      "Ever find yourself waiting for the signal &amp; meeting someone after dark &amp; happening upon a majestic coven in the woo… https://t.co/MUVPjKFSNe\n",
      "I’ve never done this before. In the past I’ve always treated albums as one-off eras and moved onto planning the nex… https://t.co/gqCQK7obaH\n",
      "*cries in cottagecore*\n",
      "*screams in soft lullabies*\n",
      "*throws self to the base of a willow tree by a reflection pool a… https://t.co/gsNXA9kNkL\n",
      "@sheroseslowly Confirmed: the woman was, in fact, mad. 😂 #folkloreOnDisneyPlus\n",
      "@adrienchanted Yeah that one scalds. Like why is it so sad?? I remember finishing that bridge and thinking it was l… https://t.co/UDd7IFHDTp\n"
     ]
    }
   ],
   "source": [
    "# #Classify the sentiments for user @taylorswift13\n",
    "tweets = api.user_timeline(id = '@taylorswift13', lang='en',count = 250)\n",
    "parsed_tweets=get_sentiments(tweets)\n",
    "summary(parsed_tweets,10)"
   ]
  },
  {
   "cell_type": "markdown",
   "metadata": {},
   "source": [
    "###  <font color='red'> Task 11 (Question 1): (3%)"
   ]
  },
  {
   "cell_type": "markdown",
   "metadata": {},
   "source": [
    "- Compare the sentiments on Twitter by brands on a particular product type.\n",
    "- You need to determine the proper hashtag in order to perform the sentiment analysis\n",
    "- Example 1: #iPhone12Pro vs. #samsunggalaxyS21 \n",
    "- Example 2: #Toyata vs. #Honda\n",
    "- Example 3: #macbookpro vs #LenovoThinkPad\n",
    "- Create a brief report for the sentiment analysis (% of positive, negative and neutral tweets, and graphs)\n",
    "- Comment on the results obtained. "
   ]
  },
  {
   "cell_type": "code",
   "execution_count": 6,
   "metadata": {},
   "outputs": [
    {
     "name": "stdout",
     "output_type": "stream",
     "text": [
      "Positive tweets percentage: 64.93506493506493 %\n",
      "Negative tweets percentage: 1.2987012987012987 %\n",
      "Neutral tweets percentage: 33.76623376623377 %\n"
     ]
    },
    {
     "data": {
      "image/png": "[encoded data removed]",
      "text/plain": [
       "<Figure size 432x288 with 1 Axes>"
      ]
     },
     "metadata": {},
     "output_type": "display_data"
    },
    {
     "name": "stdout",
     "output_type": "stream",
     "text": [
      "\n",
      "\n",
      "Positive tweets:\n",
      "RT @TaraShalton: Check out this new iphone 12 case that I uploaded to https://t.co/UyjjEG7MPX! https://t.co/S8TM5SiDlF #woman #art #face #e…\n",
      "RT @Almanz_art: Get my art printed on awesome products. Support me at Redbubble #RBandME:  https://t.co/5i8rkDVp5U #findyourthing #redbubbl…\n",
      "RT @TechyPreacher: iPhone 13 Pro \n",
      "in the new exclusive color designed specifically for iPhone 13 Pro series.\n",
      "\n",
      "Via👇\n",
      "@ LeaksApplePro \n",
      "\n",
      "#apple…\n",
      "iPhone 13 Pro \n",
      "in the new exclusive color designed specifically for iPhone 13 Pro series.\n",
      "\n",
      "Via👇\n",
      "@ LeaksApplePro… https://t.co/6h6Oy1HISo\n",
      "@ADIBTweets A) True\n",
      "Liked Followed Tagged Done\n",
      "@huka_tsm \n",
      "@Roshy_7\n",
      "\n",
      "#AbuDhabiIslamicBank  \n",
      "#competition… https://t.co/4B2kSRW8ib\n",
      "@ADIBTweets A) True\n",
      "Liked Followed Tagged Done\n",
      "@huka_tsm \n",
      "@Roshy_7\n",
      "\n",
      "#AbuDhabiIslamicBank  \n",
      "#competition… https://t.co/CXNoTqZom7\n",
      "@ADIBTweets A) True\n",
      "Liked Followed Tagged Done\n",
      "@huka_tsm \n",
      "@Roshy_7\n",
      "\n",
      "#AbuDhabiIslamicBank  \n",
      "#competition… https://t.co/uazfTAnCYh\n",
      "@ADIBTweets A) True\n",
      "Liked Followed Tagged Done\n",
      "@huka_tsm \n",
      "@Roshy_7\n",
      "\n",
      "#AbuDhabiIslamicBank  \n",
      "#competition… https://t.co/i8zSfa8ktq\n",
      "@ADIBTweets A) True\n",
      "Liked Followed Tagged Done\n",
      "@huka_tsm \n",
      "@Roshy_7\n",
      "\n",
      "#AbuDhabiIslamicBank  \n",
      "#competition… https://t.co/Pc8FCGb5r8\n",
      "@ADIBTweets A) True\n",
      "Liked Followed Tagged Done\n",
      "@huka_tsm \n",
      "@Roshy_7\n",
      "\n",
      "#AbuDhabiIslamicBank  \n",
      "#competition… https://t.co/uY2aPJv4H5\n",
      "\n",
      "\n",
      "Negative tweets:\n",
      "Check out this new iphone 12 case that I uploaded to https://t.co/UMStnKCpLL! https://t.co/lWGD7qPtdi \"Twisted\" Pho… https://t.co/gVQzfbkp8Q\n"
     ]
    }
   ],
   "source": [
    "#Classify the sentiments for hashtag iPhone12Pro\n",
    "raw_tweets = api.search(q = 'iPhone12Pro', lang='en',count = 400)\n",
    "classified_tweets=get_sentiments(raw_tweets)\n",
    "summary(classified_tweets,10)"
   ]
  },
  {
   "cell_type": "code",
   "execution_count": 11,
   "metadata": {},
   "outputs": [
    {
     "name": "stdout",
     "output_type": "stream",
     "text": [
      "Positive tweets percentage: 43.24324324324324 %\n",
      "Negative tweets percentage: 10.81081081081081 %\n",
      "Neutral tweets percentage: 45.945945945945944 %\n"
     ]
    },
    {
     "data": {
      "image/png": "[encoded data removed]",
      "text/plain": [
       "<Figure size 432x288 with 1 Axes>"
      ]
     },
     "metadata": {},
     "output_type": "display_data"
    },
    {
     "name": "stdout",
     "output_type": "stream",
     "text": [
      "\n",
      "\n",
      "Positive tweets:\n",
      "RT @Poorvika_Mobile: It's time for you to upgrade to a #SamsungGalaxyS21 + #5G for just ₹59,999* with an Epic #ExchangeOffer at a nearby #P…\n",
      "Awww my 3rd phone. Dropped so many times! #SamsungGalaxyS21 https://t.co/VYk63s7Ubn\n",
      "RT @Dj_Amar_B: What a stunning evening we've had today 🌇\n",
      "Shot this with my #SamsungGalaxyS21\n",
      "\n",
      "Let's share the beauty of Kenya 🇰🇪\n",
      "\n",
      "@JoeWMuch…\n",
      "What a stunning evening we've had today 🌇\n",
      "Shot this with my #SamsungGalaxyS21\n",
      "\n",
      "Let's share the beauty of Kenya 🇰🇪… https://t.co/hIc5cHlE0m\n",
      "RT @VikramAVN: Low light 15x zoom with #SamsungGalaxyS21 https://t.co/5xWwaUt91Y\n",
      "Low light 15x zoom with #SamsungGalaxyS21 https://t.co/5xWwaUt91Y\n",
      "RT @ninja24xseven: #Competitions never stop at #ninja24x7\n",
      "\n",
      "In 8 DAYS you can #win \n",
      "- #SamsungGalaxyS21 on playing #CityDunk\n",
      "- Sony #PS5 on…\n",
      "RT @iCatchyuk: The classic flip leather cover design provides all-around protection. The elegant, yet simple smartphone Casing is made of h…\n",
      "The classic flip leather cover design provides all-around protection. The elegant, yet simple smartphone Casing is… https://t.co/m7HI6lJbXv\n",
      "@Biz_Marketing @SamsungMobileSA @Biz_IT @SamsungMobileSA how many retweet for you guys to send me a #samsunggalaxyS21.\n",
      "\n",
      "\n",
      "Negative tweets:\n",
      "Can't believe these pics were taken on a phone? The S21 ultra's zoom capabilities are insane. I got a telescope on… https://t.co/LUKEAqEYS0\n",
      "Check out the crazy camera quality on my new phone! #SamsungGalaxyS21 #HighdefinitionPattyDatyourservice https://t.co/x0yprSipBl\n",
      "Are you bored? Thinking of fun things to do on your phone? How about customizing your #SamsungGalaxyS21… https://t.co/d29DIZpsSZ\n",
      "Among the several newly released small screen phones, there are ASUS Zenfone 8, Meizu 18, iPhone 12 mini, Samsung G… https://t.co/kkYadKQdza\n"
     ]
    }
   ],
   "source": [
    "#Classify the sentiments for hashtag samsunggalaxyS21\n",
    "raw_tweets = api.search(q = 'samsunggalaxyS21', lang='en',count = 400)\n",
    "classified_tweets=get_sentiments(raw_tweets)\n",
    "summary(classified_tweets,10)"
   ]
  },
  {
   "cell_type": "markdown",
   "metadata": {},
   "source": [
    "### iPhone12Pro vs samsunggalaxyS21\n",
    "For these hashtags, iPhone12Pro garnered 64.9% positive tweets, 33.8% neutral tweets, and 1.3% negative tweets according to the pie chart generated. According to the analysis, the collected tweet showed that the positive tweets are about promotions for the phone and most of it was about a giveaway for the phone. As for the negative tweets, it seemed like it was a promotional tweet for a phone casing but was detected as a negative tweet.\n",
    "\n",
    "As for the Samsung Galaxy S21, it garnered 43.2% positive tweets, 45.9% neutral tweets, and 10.8% negative tweets according to the pie chart generated. However, according to the collected tweets, some of the tweets categorized as negative tweets were tweets that was praising the phone. This may be due to certain keywords that are deemed negative but are not such as insane and crazy. Therefore there are a few tweets that were mislabeled as negative tweets."
   ]
  },
  {
   "cell_type": "code",
   "execution_count": 12,
   "metadata": {},
   "outputs": [
    {
     "name": "stdout",
     "output_type": "stream",
     "text": [
      "Positive tweets percentage: 58.22784810126582 %\n",
      "Negative tweets percentage: 10.126582278481013 %\n",
      "Neutral tweets percentage: 31.645569620253166 %\n"
     ]
    },
    {
     "data": {
      "image/png": "[encoded data removed]",
      "text/plain": [
       "<Figure size 432x288 with 1 Axes>"
      ]
     },
     "metadata": {},
     "output_type": "display_data"
    },
    {
     "name": "stdout",
     "output_type": "stream",
     "text": [
      "\n",
      "\n",
      "Positive tweets:\n",
      "RT @UniversityStar: BREAKING: 21 year-old Harper Garlitos was last seen in #SMTX on May 10, 2021, and was driving his silver 2003 Toyota Tu…\n",
      "RT @KumatServices: Another sweet weekend deal you don't want to miss.\n",
      "\n",
      "Foreign used 2005 Toyota RAV4 \n",
      "\n",
      "Location: Ojodu Berger, Lagos\n",
      "\n",
      "Price…\n",
      "RT @enaautomobileng: 【FOREIGN USED - TOKUNBO】\n",
      "2012 Toyota Corolla\n",
      "In silver on grey interior now available \n",
      "\n",
      "【PRICE；3.7M NET】…\n",
      "@Toyota_CAMRYx3 RIGHT! Cause mfs just be wanting to smoke &amp; leave 🙄\n",
      "【FOREIGN USED - TOKUNBO】\n",
      "2012 Toyota Corolla\n",
      "In silver on grey interior now available \n",
      "\n",
      "【PRICE；3.7M NET】… https://t.co/HpmLTO3pzI\n",
      "Omo, the all new Toyota Starlet 2020 model is all I want right now 😩😩😩\n",
      "@ACLU Gerry's Corner Podcast\n",
      "Episode 9: *Built like Toyota*\n",
      "\n",
      "Toyota has 3 primary principles to make their cars, in… https://t.co/K6LbKKIadd\n",
      "Toyota Camry 2004 Foreign Used Accident Free EUC Location: Ajah Price: ₦1.950\n",
      "📞/WhatsApp 09012505322… https://t.co/WdCJBGk37a\n",
      "Another sweet weekend deal you don't want to miss.\n",
      "\n",
      "Foreign used 2005 Toyota RAV4 \n",
      "\n",
      "Location: Ojodu Berger, Lagos… https://t.co/DV0R0fksVB\n",
      "RT @aymmiJ: So what do y’all plan to do about improving the foster care system since y’all care so much. \n",
      "\n",
      "What do y’all plan to do to impr…\n",
      "\n",
      "\n",
      "Negative tweets:\n",
      "WWE Announces Return To Toyota Center In July With Friday Night Smackdown https://t.co/6DSGvKKzI0 https://t.co/2Ta0oDM9ET\n",
      "@jrwilliams_ios Hi Joe, thanks for getting in touch. We're very sorry to hear that you're having some trouble with… https://t.co/ILSsb9UUGP\n",
      "WWE Announces Return To Toyota Center In July With Friday Night Smackdown https://t.co/VDWIxg4UQk https://t.co/PpOjSRT47M\n",
      "RT @KateisBlu: @judytwin @Josh_Moon So crazy. Imagine living there and having that guy lurking around. The corporations there should demand…\n",
      "RT @allthingsakpena: LOCATION: BENIN.\n",
      "\n",
      "Few months old 2009/2010 Toyota Highlander\n",
      "\n",
      "PRICE: 3.8m.\n",
      "\n",
      "#beninbusiness https://t.co/Cvi5x6JJFB\n",
      "Who got the keys to my bimmer? I mean Toyota\n",
      "Manufacturer: Toyota\n",
      "Model: Corolla Sport \n",
      "Year: 2010\n",
      "Status: Foreign Used \n",
      "Mileage: 121k\n",
      "Location: Shomolu \n",
      "Price:… https://t.co/OUiB5Vornl\n",
      "@Toyota_CAMRYx3 I’m already knowing I just b talking my shit 😮‍💨😭 but I needed to hear that big dawg ❤️\n"
     ]
    }
   ],
   "source": [
    "#Classify the sentiments for hashtag Toyota\n",
    "raw_tweets = api.search(q = 'Toyota', lang='en',count = 400)\n",
    "classified_tweets=get_sentiments(raw_tweets)\n",
    "summary(classified_tweets,10)"
   ]
  },
  {
   "cell_type": "code",
   "execution_count": 13,
   "metadata": {},
   "outputs": [
    {
     "name": "stdout",
     "output_type": "stream",
     "text": [
      "Positive tweets percentage: 41.55844155844156 %\n",
      "Negative tweets percentage: 18.181818181818183 %\n",
      "Neutral tweets percentage: 40.25974025974026 %\n"
     ]
    },
    {
     "data": {
      "image/png": "[encoded data removed]",
      "text/plain": [
       "<Figure size 432x288 with 1 Axes>"
      ]
     },
     "metadata": {},
     "output_type": "display_data"
    },
    {
     "name": "stdout",
     "output_type": "stream",
     "text": [
      "\n",
      "\n",
      "Positive tweets:\n",
      "RT @Devineni_Hari: It's A Bit Blurred But Still It's Cute \n",
      "#Prabhas || #RadheShyam 😍\n",
      "Pic Credits - @honda_hiyuu https://t.co/jMRKLrPmZ5\n",
      "RT @Abuja_AutoHaven: Very Clean foreign used Honda Accord V6, push to start, 2013 model with original duty, going for 5.9M, Location: Abuja…\n",
      "RT @Jawanza: Today’s already been a good day and one more direct action to go! \n",
      "—\n",
      "Today we rallied to pass the #HONDA bill in Albany in our…\n",
      "RT @HERMusicx: ICYMI: Here’s my @HondaStage performance of #Damage: https://t.co/eQYUdZ8KO4. Are you ready for the remix? Coming soon… @Hon…\n",
      "Someone says “what kind of car is that?!”\n",
      "\n",
      "Sir. It’s a civic. A Honda Civic.\n",
      "RT @cars_pixels: Out &amp; about\n",
      "\n",
      "Here are live pictures of the all-new Honda Civic sedan.\n",
      "\n",
      "📸 Kbb_com https://t.co/XGFY8PzLhh\n",
      "2022 Honda Civic - LIVE! https://t.co/itdZiE7uXt via @YouTube\n",
      "@keegzzz Been driving a Honda fit since 2015, excellent car\n",
      "Placing amazing people at great jobs. Click here to learn more about our latest job opening in #Sidney, OH… https://t.co/RQvIDIKJDW\n",
      "New keyrings will be available soon after the finishing touches have been worked out. Im happy with this prototype!… https://t.co/2Ec5tue8Kt\n",
      "\n",
      "\n",
      "Negative tweets:\n",
      "RT @__oldsovl: @unknownvegan_ @JackieeMarie_ Me in my 02 honda mad af cuz i had to REACH over and crank my shit down https://t.co/kyTAsV2jg5\n",
      "RT @Baitz__: My remix of Honda by 1997 is out now on @RenkieOfficial 🚗\n",
      "\n",
      "Check it out in the link in my bio n vibe it all weekend long 🕺🏻 ht…\n",
      "Yemi ass got everyone thinking I drive a damn 90s Honda 😭😭😭 fuck you\n",
      "the other day i saw a truck going down 35 with a bunch of lumber on it and given the current price of lumber I had… https://t.co/wPcE8gpJvH\n",
      "this why my honda civic b cutting y’all off w the such ease 🥰 https://t.co/izoo8usByY\n",
      "RT @bovibaee: to this day my mom is like \"i dont think u have adhd, i think u just gotta focus a little.\" i understand your honda civic bra…\n",
      "RT @zdravkost: #OnThisDay in 2017, Scott Dixon scored his 3rd, and Honda's 10th #Indy500 pole with a 4 lap average of 232.164 mph, fastest…\n",
      "this is a nissan and honda civic hate account\n",
      "honda civics suck ass too fuck u please hit my 4runner u whore https://t.co/jK73BqyGBb\n",
      "I hate the stupid calls I get at my job. “Y’all do oil changes?” Does it look like we do damn oil changes here. NO… https://t.co/8BCEX2RdK9\n"
     ]
    }
   ],
   "source": [
    "#Classify the sentiments for hashtag Honda\n",
    "raw_tweets = api.search(q = 'Honda', lang='en',count = 400)\n",
    "classified_tweets=get_sentiments(raw_tweets)\n",
    "summary(classified_tweets,10)"
   ]
  },
  {
   "cell_type": "markdown",
   "metadata": {},
   "source": [
    "### Toyota vs Honda\n",
    "For the hastags Toyota and Honda, Toyota garnered 58.2% positive tweets, 31.6% neutral tweets, and 10.1% negative tweets according to the pie chart generated. Based on the summary of the tweets for Toyota, it can be seen that most of the positive tweets are about promotions of the car such as people selling their used Toyotas. As for the negative tweets, it can be seen that most of them are not really negative but contain keywords that might be interpreted as negative such as sorry, crazy, and shit.\n",
    "\n",
    "As for Honda, it garnered 40.3% positive tweets, 41.6% neutral tweets, and 18.2% negative tweets according to the pie chart generated. Based on the summary of the collected tweets, the postive and negative tweets were quite accurate to what the tweets actually were. The positive tweets contained praise for the car model by users and as for the negative tweets, they contained a lot of distain for the car model even going as far as bashing the brand and the consumers that uses them. These negative tweets also contained a lot of complaints by users that do not like the brand or about their job having to deal with customers that use the brand."
   ]
  },
  {
   "cell_type": "markdown",
   "metadata": {},
   "source": [
    "### Part 2: Vectorise text data to TF-IDF\n",
    "\n",
    "TF-IDF = Term Frequency-Inverse Document Frequency\n",
    "\n",
    "Step 1: Create a paragraph of input text"
   ]
  },
  {
   "cell_type": "code",
   "execution_count": 7,
   "metadata": {},
   "outputs": [],
   "source": [
    "# Load libraries\n",
    "import numpy as np\n",
    "from sklearn.feature_extraction.text import TfidfVectorizer\n",
    "import pandas as pd\n",
    "# Create text extracted from same news article different paragraph\n",
    "text_data = np.array(['Donald Trump hopes for ‘world peace’ as he announces he will\\\n",
    "                        meet North Korea’s Kim Jong-un in Singapore summit in June',\n",
    "                      'The summit, which has been in the works since Trump accepted\\\n",
    "                      Kim invitation to meet in June, will be the first ever \\\n",
    "                      meeting between a sitting US president and North Korean leader',\n",
    "                      'The US president Donald Trump said he hoped to reach a deal with\\\n",
    "                      im on North Korea’s denuclearisation that could exceed the peoples\\\n",
    "                      expectations'])"
   ]
  },
  {
   "cell_type": "markdown",
   "metadata": {},
   "source": [
    "Step 2: Create the feature matrix"
   ]
  },
  {
   "cell_type": "code",
   "execution_count": 8,
   "metadata": {},
   "outputs": [
    {
     "data": {
      "text/plain": [
       "array([[0.        , 0.31360367, 0.        , 0.        , 0.23850367,\n",
       "        0.        , 0.        , 0.        , 0.31360367, 0.        ,\n",
       "        0.        , 0.31360367, 0.23850367, 0.23850367, 0.23850367,\n",
       "        0.        , 0.        , 0.23850367, 0.        , 0.18521938,\n",
       "        0.31360367, 0.        , 0.        , 0.        , 0.        ,\n",
       "        0.31360367, 0.        , 0.23850367, 0.18521938, 0.        ,\n",
       "        0.31360367],\n",
       "       [0.30729759, 0.        , 0.        , 0.        , 0.        ,\n",
       "        0.        , 0.        , 0.        , 0.        , 0.        ,\n",
       "        0.30729759, 0.        , 0.23370774, 0.23370774, 0.        ,\n",
       "        0.30729759, 0.30729759, 0.23370774, 0.30729759, 0.18149491,\n",
       "        0.        , 0.        , 0.23370774, 0.        , 0.        ,\n",
       "        0.        , 0.30729759, 0.23370774, 0.18149491, 0.30729759,\n",
       "        0.        ],\n",
       "       [0.        , 0.        , 0.29574859, 0.29574859, 0.22492443,\n",
       "        0.29574859, 0.29574859, 0.29574859, 0.        , 0.29574859,\n",
       "        0.        , 0.        , 0.        , 0.        , 0.22492443,\n",
       "        0.        , 0.        , 0.        , 0.        , 0.17467388,\n",
       "        0.        , 0.29574859, 0.22492443, 0.29574859, 0.29574859,\n",
       "        0.        , 0.        , 0.        , 0.17467388, 0.        ,\n",
       "        0.        ]])"
      ]
     },
     "execution_count": 8,
     "metadata": {},
     "output_type": "execute_result"
    }
   ],
   "source": [
    "from sklearn.feature_extraction import text \n",
    "\n",
    "#remove some non important words in addition to built in stop words\n",
    "my_additional_stop_words={'as','in','for','he','very'}\n",
    "my_stop_words = text.ENGLISH_STOP_WORDS.union(my_additional_stop_words)\n",
    "\n",
    "# Create the tf-idf feature matrix\n",
    "tfidf = TfidfVectorizer(stop_words=set(my_stop_words))\n",
    "feature_matrix = tfidf.fit_transform(text_data)\n",
    "\n",
    "# Show tf-idf feature matrix\n",
    "feature_matrix.toarray()"
   ]
  },
  {
   "cell_type": "markdown",
   "metadata": {},
   "source": [
    "Step 3: Get the feature names"
   ]
  },
  {
   "cell_type": "code",
   "execution_count": 9,
   "metadata": {},
   "outputs": [
    {
     "data": {
      "text/plain": [
       "['accepted',\n",
       " 'announces',\n",
       " 'deal',\n",
       " 'denuclearisation',\n",
       " 'donald',\n",
       " 'exceed',\n",
       " 'expectations',\n",
       " 'hoped',\n",
       " 'hopes',\n",
       " 'im',\n",
       " 'invitation',\n",
       " 'jong',\n",
       " 'june',\n",
       " 'kim',\n",
       " 'korea',\n",
       " 'korean',\n",
       " 'leader',\n",
       " 'meet',\n",
       " 'meeting',\n",
       " 'north',\n",
       " 'peace',\n",
       " 'peoples',\n",
       " 'president',\n",
       " 'reach',\n",
       " 'said',\n",
       " 'singapore',\n",
       " 'sitting',\n",
       " 'summit',\n",
       " 'trump',\n",
       " 'works',\n",
       " 'world']"
      ]
     },
     "execution_count": 9,
     "metadata": {},
     "output_type": "execute_result"
    }
   ],
   "source": [
    "# Show tf-idf feature matrix\n",
    "tfidf.get_feature_names()"
   ]
  },
  {
   "cell_type": "markdown",
   "metadata": {},
   "source": [
    "Step 4: Create a dataframe of TF-IDF terms"
   ]
  },
  {
   "cell_type": "code",
   "execution_count": 10,
   "metadata": {},
   "outputs": [
    {
     "data": {
      "text/plain": [
       "accepted            0.000000\n",
       "announces           0.313604\n",
       "deal                0.000000\n",
       "denuclearisation    0.000000\n",
       "donald              0.238504\n",
       "exceed              0.000000\n",
       "expectations        0.000000\n",
       "hoped               0.000000\n",
       "hopes               0.313604\n",
       "im                  0.000000\n",
       "invitation          0.000000\n",
       "jong                0.313604\n",
       "june                0.238504\n",
       "kim                 0.238504\n",
       "korea               0.238504\n",
       "korean              0.000000\n",
       "leader              0.000000\n",
       "meet                0.238504\n",
       "meeting             0.000000\n",
       "north               0.185219\n",
       "peace               0.313604\n",
       "peoples             0.000000\n",
       "president           0.000000\n",
       "reach               0.000000\n",
       "said                0.000000\n",
       "singapore           0.313604\n",
       "sitting             0.000000\n",
       "summit              0.238504\n",
       "trump               0.185219\n",
       "works               0.000000\n",
       "world               0.313604\n",
       "Name: 0, dtype: float64"
      ]
     },
     "execution_count": 10,
     "metadata": {},
     "output_type": "execute_result"
    }
   ],
   "source": [
    "# Create data frame\n",
    "df=pd.DataFrame(feature_matrix.toarray(), columns=tfidf.get_feature_names())\n",
    "df.loc[0]"
   ]
  },
  {
   "cell_type": "markdown",
   "metadata": {},
   "source": [
    "Step 5: Show the list of TF-IDF terms"
   ]
  },
  {
   "cell_type": "code",
   "execution_count": 11,
   "metadata": {},
   "outputs": [
    {
     "data": {
      "text/plain": [
       "accepted            0.307298\n",
       "announces           0.000000\n",
       "deal                0.000000\n",
       "denuclearisation    0.000000\n",
       "donald              0.000000\n",
       "exceed              0.000000\n",
       "expectations        0.000000\n",
       "hoped               0.000000\n",
       "hopes               0.000000\n",
       "im                  0.000000\n",
       "invitation          0.307298\n",
       "jong                0.000000\n",
       "june                0.233708\n",
       "kim                 0.233708\n",
       "korea               0.000000\n",
       "korean              0.307298\n",
       "leader              0.307298\n",
       "meet                0.233708\n",
       "meeting             0.307298\n",
       "north               0.181495\n",
       "peace               0.000000\n",
       "peoples             0.000000\n",
       "president           0.233708\n",
       "reach               0.000000\n",
       "said                0.000000\n",
       "singapore           0.000000\n",
       "sitting             0.307298\n",
       "summit              0.233708\n",
       "trump               0.181495\n",
       "works               0.307298\n",
       "world               0.000000\n",
       "Name: 1, dtype: float64"
      ]
     },
     "execution_count": 11,
     "metadata": {},
     "output_type": "execute_result"
    }
   ],
   "source": [
    "df.loc[1]"
   ]
  },
  {
   "cell_type": "markdown",
   "metadata": {},
   "source": [
    "###  <font color='red'> Task 11 (Question 2): (1%)"
   ]
  },
  {
   "cell_type": "markdown",
   "metadata": {},
   "source": [
    "What are the most important words in the paragrph? \n",
    "Comment on using TF-IDF terms to classify documents. "
   ]
  },
  {
   "cell_type": "markdown",
   "metadata": {},
   "source": [
    "The most important words in the paragraph has a weight of 0.307298 and the words are:\n",
    "accepted,\n",
    "invitation,\n",
    "korean,\n",
    "leader,\n",
    "meeting,\n",
    "sitting,\n",
    "works"
   ]
  },
  {
   "cell_type": "markdown",
   "metadata": {},
   "source": [
    "Using TF-IDF is a technique used to find the meaning of sentences consisting of words and it cancels out the incapabilities of the Bag Of Words technique which is  good for text classification or for helping machine learning read words in numbers"
   ]
  },
  {
   "cell_type": "code",
   "execution_count": null,
   "metadata": {},
   "outputs": [],
   "source": []
  }
 ],
 "metadata": {
  "kernelspec": {
   "display_name": "Python 3",
   "language": "python",
   "name": "python3"
  },
  "language_info": {
   "codemirror_mode": {
    "name": "ipython",
    "version": 3
   },
   "file_extension": ".py",
   "mimetype": "text/x-python",
   "name": "python",
   "nbconvert_exporter": "python",
   "pygments_lexer": "ipython3",
   "version": "3.8.5"
  }
 },
 "nbformat": 4,
 "nbformat_minor": 2
}
