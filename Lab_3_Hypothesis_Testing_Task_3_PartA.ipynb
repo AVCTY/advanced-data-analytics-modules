{
 "cells": [
  {
   "cell_type": "markdown",
   "metadata": {},
   "source": [
    "### Introduction to Hypothesis Testing\n",
    "\n",
    "In the statistical world, a hypothesis is an assumption about a __population parameter__. Examples of hypotheses (that’s plural for hypothesis) include the following:\n",
    "- The average adult drinks 1.7 cups of coffee per day.\n",
    "- Twelve percent of undergraduate students will go directly to graduate school after graduation.\n",
    "- No more than 2 percent of our products sold to customers are defective\n",
    "\n",
    "In each case, we have made a statement about the population that may or may not be true. The purpose of hypothesis testing is to make a statistical conclusion about accepting or not accepting such statements.\n",
    "\n",
    "We start by having a null hypothesis $H_0$ which represents the status quo, that is the population is not affected by whatever intervention applied. The alternate hypothesis $H_1$ is to denote that there is an effect on the population. \n",
    "\n",
    "\n",
    "We can visualise the procedure as follows:\n",
    "- Collect a sample of size n, and calculate the test statistic, which in this case is the sample mean.\n",
    "- Plot the sample mean on the x-axis of the sampling distribution curve.\n",
    "- If the sample mean falls within the white region, we do not reject $H_0$. That is, we do not have enough evidence to support $H_1$, the alternative hypothesis, which states that the population mean is not equal to 6.0 days.\n",
    "- If the sample mean falls in either shaded region, otherwise known as the rejection region, we reject $H_0$. That is, we have enough evidence to support $H_1$, which results in our belief that the true population mean is not equal to 6.0 day\n",
    "\n",
    "Because there are two rejection regions in this figure, we have a two-tail hypothesis test.\n",
    "\n",
    "For example, we may have a null hypothesis as:\n",
    "\n",
    "$$H_0:\\mu=6.0 days$$\n",
    "$$H_1:\\mu\\ne6.0 days$$\n",
    "\n",
    "where $\\mu$ is the mean number of days for a medical suture to dissolve. We invented a new suture, and want to test if there is a differences in the days it will take to dissolve. For the new suture, we found the mean to be 6.1 days. Is the new suture able to dissovle faster than the normal sutures?\n",
    "\n",
    "Let’s say that I know that the standard deviation of the population, $\\sigma$, is 0.5 days, and my sample size to test the hypothesis, n, is 30. We’ll also set $\\alpha$ = 0.05, which means I’m willing to accept a 5 percent chance of committing a Type I error. \n",
    "\n",
    "When the samples are less than 30, we use the t-distribution. If the population standard deviation is unknown we use the sample standard distribution divided by the square root of the sample size. "
   ]
  },
  {
   "cell_type": "code",
   "execution_count": 2,
   "metadata": {},
   "outputs": [
    {
     "name": "stdout",
     "output_type": "stream",
     "text": [
      "(5.821080585628284, 6.178919414371716)\n"
     ]
    }
   ],
   "source": [
    "from scipy import stats\n",
    "import math\n",
    "cf=stats.norm.interval(.95,loc=6,scale=0.5/math.sqrt(30))\n",
    "print(cf)"
   ]
  },
  {
   "cell_type": "code",
   "execution_count": 3,
   "metadata": {},
   "outputs": [
    {
     "name": "stdout",
     "output_type": "stream",
     "text": [
      "1.0954451150103284\n",
      "0.1366608391461499\n"
     ]
    }
   ],
   "source": [
    "def zscore(xtest,mean,std,size):\n",
    "    return (xtest-mean)/(std/math.sqrt(size))\n",
    "zx=zscore(6.1,6.0,0.5,30)\n",
    "\n",
    "print (zx) #explain what this means\n",
    "print(1-stats.norm.cdf(zx)) #explain what this means"
   ]
  },
  {
   "cell_type": "markdown",
   "metadata": {},
   "source": [
    "!['hypothesis'](lab2-img\\hypo_1.png)\n",
    "\n",
    "Is the new suture better, in terms of being able to dissolve faster, than the old sutures? Why?"
   ]
  },
  {
   "cell_type": "markdown",
   "metadata": {},
   "source": [
    "A random sample of 100 working mothers spend an average of 11.5 minutes per day talking with their children. Assume the population standard deviation is 2.3 minutes and mean is 11 mins. \n",
    "\n",
    "The null hypothesis is $\\mu=11$. The alternative hypothesis is $\\mu>11$. Test this claim. The calculation is shown below. \n",
    "\n",
    "Explain the calculation below."
   ]
  },
  {
   "cell_type": "code",
   "execution_count": 4,
   "metadata": {},
   "outputs": [
    {
     "name": "stdout",
     "output_type": "stream",
     "text": [
      "2.173913043478261\n",
      "0.014855833143976649\n"
     ]
    }
   ],
   "source": [
    "def zscore(xtest,mean,std,size):\n",
    "    return (xtest-mean)/(std/math.sqrt(size))\n",
    "zx=zscore(11.5,11.0,2.3,100)\n",
    "print (zx)\n",
    "print(1-stats.norm.cdf(zx))"
   ]
  },
  {
   "cell_type": "markdown",
   "metadata": {},
   "source": [
    "### Task 3 (Part A)\n",
    "\n",
    "1. Formulate a hypothesis statement for the following claim: “The average adult drinks 1.7 cups of coffee per day.” A sample of 35 adults drank an average of 1.95 cups per day. Assume the population standard deviation is 0.5 cups. Using\n",
    "$\\alpha$ = 0.10, test your hypothesis. What is your conclusion?\n",
    "\n",
    "2. Formulate a hypothesis statement for the following claim: “The average age of our customers is less than 40 years old.” A sample of 50 customers had an average age of 38.7 years. Assume the population standard deviation is 12.5 years. Using $\\alpha$ = 0.05, test your hypothesis. What is your conclusion?\n"
   ]
  },
  {
   "cell_type": "code",
   "execution_count": 4,
   "metadata": {},
   "outputs": [
    {
     "name": "stdout",
     "output_type": "stream",
     "text": [
      "-2.958039891549808\n",
      "0.9984519897250205\n"
     ]
    }
   ],
   "source": [
    "def zscore(xtest,mean,std,size):\n",
    "    return (xtest-mean)/(std/math.sqrt(size))\n",
    "\n",
    "zx = zscore(1.7,1.95,0.5,35)\n",
    "print(zx) # returns the zscore for the hypothesis\n",
    "print(1-stats.norm.cdf(zx)) # returns the cumulative normal distribution"
   ]
  },
  {
   "cell_type": "markdown",
   "metadata": {},
   "source": [
    "# Ans:\n",
    "The zscore for this is -2.96 which is in the rejection region thus, the null hypothesis is rejected."
   ]
  },
  {
   "cell_type": "code",
   "execution_count": 18,
   "metadata": {},
   "outputs": [
    {
     "name": "stdout",
     "output_type": "stream",
     "text": [
      "0.7353910524340079\n",
      "0.23105068476057322\n"
     ]
    }
   ],
   "source": [
    "def zscore(xtest,mean,std,size):\n",
    "    return (xtest-mean)/(std/math.sqrt(size))\n",
    "\n",
    "zx = zscore(40,38.7,12.5,50)\n",
    "print(zx) # returns the zscore for the hypothesis\n",
    "print(1-stats.norm.cdf(zx)) # returns the cumulative normal distribution"
   ]
  },
  {
   "cell_type": "markdown",
   "metadata": {},
   "source": [
    "# Ans:\n",
    "The zscore for this is 0.73 which is in the observation region thus, the null hypothesis failed to be rejected."
   ]
  }
 ],
 "metadata": {
  "kernelspec": {
   "display_name": "Python 3",
   "language": "python",
   "name": "python3"
  },
  "language_info": {
   "codemirror_mode": {
    "name": "ipython",
    "version": 3
   },
   "file_extension": ".py",
   "mimetype": "text/x-python",
   "name": "python",
   "nbconvert_exporter": "python",
   "pygments_lexer": "ipython3",
   "version": "3.8.5"
  }
 },
 "nbformat": 4,
 "nbformat_minor": 2
}
